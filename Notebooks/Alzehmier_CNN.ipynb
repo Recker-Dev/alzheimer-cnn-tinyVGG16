{
 "cells": [
  {
   "cell_type": "markdown",
   "metadata": {
    "id": "75UmHOt5ldX8"
   },
   "source": [
    "## Grab the train and test"
   ]
  },
  {
   "cell_type": "code",
   "execution_count": null,
   "metadata": {
    "colab": {
     "base_uri": "https://localhost:8080/"
    },
    "executionInfo": {
     "elapsed": 3664,
     "status": "ok",
     "timestamp": 1732556285339,
     "user": {
      "displayName": "Recker",
      "userId": "16854911016069694959"
     },
     "user_tz": -330
    },
    "id": "BBpUhgtAT9sb",
    "outputId": "09f64f7e-11d4-42b0-8c21-dbee1f168b9a"
   },
   "outputs": [
    {
     "name": "stdout",
     "output_type": "stream",
     "text": [
      "Requirement already satisfied: kaggle in /usr/local/lib/python3.10/dist-packages (1.6.17)\n",
      "Requirement already satisfied: six>=1.10 in /usr/local/lib/python3.10/dist-packages (from kaggle) (1.16.0)\n",
      "Requirement already satisfied: certifi>=2023.7.22 in /usr/local/lib/python3.10/dist-packages (from kaggle) (2024.8.30)\n",
      "Requirement already satisfied: python-dateutil in /usr/local/lib/python3.10/dist-packages (from kaggle) (2.8.2)\n",
      "Requirement already satisfied: requests in /usr/local/lib/python3.10/dist-packages (from kaggle) (2.32.3)\n",
      "Requirement already satisfied: tqdm in /usr/local/lib/python3.10/dist-packages (from kaggle) (4.66.6)\n",
      "Requirement already satisfied: python-slugify in /usr/local/lib/python3.10/dist-packages (from kaggle) (8.0.4)\n",
      "Requirement already satisfied: urllib3 in /usr/local/lib/python3.10/dist-packages (from kaggle) (2.2.3)\n",
      "Requirement already satisfied: bleach in /usr/local/lib/python3.10/dist-packages (from kaggle) (6.2.0)\n",
      "Requirement already satisfied: webencodings in /usr/local/lib/python3.10/dist-packages (from bleach->kaggle) (0.5.1)\n",
      "Requirement already satisfied: text-unidecode>=1.3 in /usr/local/lib/python3.10/dist-packages (from python-slugify->kaggle) (1.3)\n",
      "Requirement already satisfied: charset-normalizer<4,>=2 in /usr/local/lib/python3.10/dist-packages (from requests->kaggle) (3.4.0)\n",
      "Requirement already satisfied: idna<4,>=2.5 in /usr/local/lib/python3.10/dist-packages (from requests->kaggle) (3.10)\n"
     ]
    }
   ],
   "source": [
    "!pip install kaggle ## As only needed to fetch data, not included in requirements.txt"
   ]
  },
  {
   "cell_type": "markdown",
   "metadata": {},
   "source": [
    "### Go to kaggle account, and create a new token. It should download a json, upload it when running the next cell."
   ]
  },
  {
   "cell_type": "code",
   "execution_count": 40,
   "metadata": {
    "colab": {
     "base_uri": "https://localhost:8080/",
     "height": 88
    },
    "executionInfo": {
     "elapsed": 9116,
     "status": "ok",
     "timestamp": 1732556294448,
     "user": {
      "displayName": "Recker",
      "userId": "16854911016069694959"
     },
     "user_tz": -330
    },
    "id": "tBmS1bJwXGdD",
    "outputId": "dd164eb6-3fbb-4288-c7c7-314e305ec85c"
   },
   "outputs": [
    {
     "data": {
      "text/html": [
       "\n",
       "     <input type=\"file\" id=\"files-73aad9d6-6185-4019-aa4a-b96025425d26\" name=\"files[]\" multiple disabled\n",
       "        style=\"border:none\" />\n",
       "     <output id=\"result-73aad9d6-6185-4019-aa4a-b96025425d26\">\n",
       "      Upload widget is only available when the cell has been executed in the\n",
       "      current browser session. Please rerun this cell to enable.\n",
       "      </output>\n",
       "      <script>// Copyright 2017 Google LLC\n",
       "//\n",
       "// Licensed under the Apache License, Version 2.0 (the \"License\");\n",
       "// you may not use this file except in compliance with the License.\n",
       "// You may obtain a copy of the License at\n",
       "//\n",
       "//      http://www.apache.org/licenses/LICENSE-2.0\n",
       "//\n",
       "// Unless required by applicable law or agreed to in writing, software\n",
       "// distributed under the License is distributed on an \"AS IS\" BASIS,\n",
       "// WITHOUT WARRANTIES OR CONDITIONS OF ANY KIND, either express or implied.\n",
       "// See the License for the specific language governing permissions and\n",
       "// limitations under the License.\n",
       "\n",
       "/**\n",
       " * @fileoverview Helpers for google.colab Python module.\n",
       " */\n",
       "(function(scope) {\n",
       "function span(text, styleAttributes = {}) {\n",
       "  const element = document.createElement('span');\n",
       "  element.textContent = text;\n",
       "  for (const key of Object.keys(styleAttributes)) {\n",
       "    element.style[key] = styleAttributes[key];\n",
       "  }\n",
       "  return element;\n",
       "}\n",
       "\n",
       "// Max number of bytes which will be uploaded at a time.\n",
       "const MAX_PAYLOAD_SIZE = 100 * 1024;\n",
       "\n",
       "function _uploadFiles(inputId, outputId) {\n",
       "  const steps = uploadFilesStep(inputId, outputId);\n",
       "  const outputElement = document.getElementById(outputId);\n",
       "  // Cache steps on the outputElement to make it available for the next call\n",
       "  // to uploadFilesContinue from Python.\n",
       "  outputElement.steps = steps;\n",
       "\n",
       "  return _uploadFilesContinue(outputId);\n",
       "}\n",
       "\n",
       "// This is roughly an async generator (not supported in the browser yet),\n",
       "// where there are multiple asynchronous steps and the Python side is going\n",
       "// to poll for completion of each step.\n",
       "// This uses a Promise to block the python side on completion of each step,\n",
       "// then passes the result of the previous step as the input to the next step.\n",
       "function _uploadFilesContinue(outputId) {\n",
       "  const outputElement = document.getElementById(outputId);\n",
       "  const steps = outputElement.steps;\n",
       "\n",
       "  const next = steps.next(outputElement.lastPromiseValue);\n",
       "  return Promise.resolve(next.value.promise).then((value) => {\n",
       "    // Cache the last promise value to make it available to the next\n",
       "    // step of the generator.\n",
       "    outputElement.lastPromiseValue = value;\n",
       "    return next.value.response;\n",
       "  });\n",
       "}\n",
       "\n",
       "/**\n",
       " * Generator function which is called between each async step of the upload\n",
       " * process.\n",
       " * @param {string} inputId Element ID of the input file picker element.\n",
       " * @param {string} outputId Element ID of the output display.\n",
       " * @return {!Iterable<!Object>} Iterable of next steps.\n",
       " */\n",
       "function* uploadFilesStep(inputId, outputId) {\n",
       "  const inputElement = document.getElementById(inputId);\n",
       "  inputElement.disabled = false;\n",
       "\n",
       "  const outputElement = document.getElementById(outputId);\n",
       "  outputElement.innerHTML = '';\n",
       "\n",
       "  const pickedPromise = new Promise((resolve) => {\n",
       "    inputElement.addEventListener('change', (e) => {\n",
       "      resolve(e.target.files);\n",
       "    });\n",
       "  });\n",
       "\n",
       "  const cancel = document.createElement('button');\n",
       "  inputElement.parentElement.appendChild(cancel);\n",
       "  cancel.textContent = 'Cancel upload';\n",
       "  const cancelPromise = new Promise((resolve) => {\n",
       "    cancel.onclick = () => {\n",
       "      resolve(null);\n",
       "    };\n",
       "  });\n",
       "\n",
       "  // Wait for the user to pick the files.\n",
       "  const files = yield {\n",
       "    promise: Promise.race([pickedPromise, cancelPromise]),\n",
       "    response: {\n",
       "      action: 'starting',\n",
       "    }\n",
       "  };\n",
       "\n",
       "  cancel.remove();\n",
       "\n",
       "  // Disable the input element since further picks are not allowed.\n",
       "  inputElement.disabled = true;\n",
       "\n",
       "  if (!files) {\n",
       "    return {\n",
       "      response: {\n",
       "        action: 'complete',\n",
       "      }\n",
       "    };\n",
       "  }\n",
       "\n",
       "  for (const file of files) {\n",
       "    const li = document.createElement('li');\n",
       "    li.append(span(file.name, {fontWeight: 'bold'}));\n",
       "    li.append(span(\n",
       "        `(${file.type || 'n/a'}) - ${file.size} bytes, ` +\n",
       "        `last modified: ${\n",
       "            file.lastModifiedDate ? file.lastModifiedDate.toLocaleDateString() :\n",
       "                                    'n/a'} - `));\n",
       "    const percent = span('0% done');\n",
       "    li.appendChild(percent);\n",
       "\n",
       "    outputElement.appendChild(li);\n",
       "\n",
       "    const fileDataPromise = new Promise((resolve) => {\n",
       "      const reader = new FileReader();\n",
       "      reader.onload = (e) => {\n",
       "        resolve(e.target.result);\n",
       "      };\n",
       "      reader.readAsArrayBuffer(file);\n",
       "    });\n",
       "    // Wait for the data to be ready.\n",
       "    let fileData = yield {\n",
       "      promise: fileDataPromise,\n",
       "      response: {\n",
       "        action: 'continue',\n",
       "      }\n",
       "    };\n",
       "\n",
       "    // Use a chunked sending to avoid message size limits. See b/62115660.\n",
       "    let position = 0;\n",
       "    do {\n",
       "      const length = Math.min(fileData.byteLength - position, MAX_PAYLOAD_SIZE);\n",
       "      const chunk = new Uint8Array(fileData, position, length);\n",
       "      position += length;\n",
       "\n",
       "      const base64 = btoa(String.fromCharCode.apply(null, chunk));\n",
       "      yield {\n",
       "        response: {\n",
       "          action: 'append',\n",
       "          file: file.name,\n",
       "          data: base64,\n",
       "        },\n",
       "      };\n",
       "\n",
       "      let percentDone = fileData.byteLength === 0 ?\n",
       "          100 :\n",
       "          Math.round((position / fileData.byteLength) * 100);\n",
       "      percent.textContent = `${percentDone}% done`;\n",
       "\n",
       "    } while (position < fileData.byteLength);\n",
       "  }\n",
       "\n",
       "  // All done.\n",
       "  yield {\n",
       "    response: {\n",
       "      action: 'complete',\n",
       "    }\n",
       "  };\n",
       "}\n",
       "\n",
       "scope.google = scope.google || {};\n",
       "scope.google.colab = scope.google.colab || {};\n",
       "scope.google.colab._files = {\n",
       "  _uploadFiles,\n",
       "  _uploadFilesContinue,\n",
       "};\n",
       "})(self);\n",
       "</script> "
      ],
      "text/plain": [
       "<IPython.core.display.HTML object>"
      ]
     },
     "metadata": {},
     "output_type": "display_data"
    },
    {
     "name": "stdout",
     "output_type": "stream",
     "text": [
      "Saving kaggle.json to kaggle.json\n"
     ]
    },
    {
     "data": {
      "text/plain": [
       "{'kaggle.json': b'{\"username\":\"reckerdev\",\"key\":\"fa5b0322fb5320c61a73e9102ad094c1\"}'}"
      ]
     },
     "execution_count": 40,
     "metadata": {},
     "output_type": "execute_result"
    }
   ],
   "source": [
    "from google.colab import files\n",
    "files.upload()\n"
   ]
  },
  {
   "cell_type": "code",
   "execution_count": 41,
   "metadata": {
    "executionInfo": {
     "elapsed": 7,
     "status": "ok",
     "timestamp": 1732556294449,
     "user": {
      "displayName": "Recker",
      "userId": "16854911016069694959"
     },
     "user_tz": -330
    },
    "id": "wiaDwj7pXaVO"
   },
   "outputs": [],
   "source": [
    "!mkdir -p ~/.kaggle\n",
    "!mv kaggle.json ~/.kaggle/\n",
    "!chmod 600 ~/.kaggle/kaggle.json\n"
   ]
  },
  {
   "cell_type": "code",
   "execution_count": 42,
   "metadata": {
    "colab": {
     "base_uri": "https://localhost:8080/"
    },
    "executionInfo": {
     "elapsed": 6202,
     "status": "ok",
     "timestamp": 1732556300646,
     "user": {
      "displayName": "Recker",
      "userId": "16854911016069694959"
     },
     "user_tz": -330
    },
    "id": "upyLNReTXcBz",
    "outputId": "45856868-c196-48ae-e86b-d8ca481e6e39"
   },
   "outputs": [
    {
     "name": "stdout",
     "output_type": "stream",
     "text": [
      "Dataset URL: https://www.kaggle.com/datasets/lukechugh/best-alzheimer-mri-dataset-99-accuracy\n",
      "License(s): ODbL-1.0\n",
      "Downloading best-alzheimer-mri-dataset-99-accuracy.zip to /content/dataset\n",
      " 91% 65.0M/71.5M [00:00<00:00, 91.7MB/s]\n",
      "100% 71.5M/71.5M [00:00<00:00, 98.7MB/s]\n"
     ]
    }
   ],
   "source": [
    "!kaggle datasets download -d lukechugh/best-alzheimer-mri-dataset-99-accuracy -p /content/dataset --unzip\n"
   ]
  },
  {
   "cell_type": "markdown",
   "metadata": {
    "id": "V9g-Mnjdlfwz"
   },
   "source": [
    "## Import Deps and Device Config"
   ]
  },
  {
   "cell_type": "code",
   "execution_count": 43,
   "metadata": {
    "executionInfo": {
     "elapsed": 11,
     "status": "ok",
     "timestamp": 1732556300646,
     "user": {
      "displayName": "Recker",
      "userId": "16854911016069694959"
     },
     "user_tz": -330
    },
    "id": "yoNHikFX3Crq"
   },
   "outputs": [],
   "source": [
    "import os\n",
    "# import zipfile"
   ]
  },
  {
   "cell_type": "code",
   "execution_count": 44,
   "metadata": {
    "executionInfo": {
     "elapsed": 10,
     "status": "ok",
     "timestamp": 1732556300646,
     "user": {
      "displayName": "Recker",
      "userId": "16854911016069694959"
     },
     "user_tz": -330
    },
    "id": "qVnPq_BK8c92"
   },
   "outputs": [],
   "source": [
    "from PIL import Image\n",
    "import torch\n",
    "import torch.nn as nn\n",
    "import torch.optim as optim\n",
    "from torchvision.datasets import ImageFolder\n",
    "import torchvision.transforms as transforms\n",
    "import torchvision\n",
    "from torch.utils.data import dataloader,DataLoader\n",
    "import matplotlib.pyplot as plt"
   ]
  },
  {
   "cell_type": "code",
   "execution_count": 45,
   "metadata": {
    "executionInfo": {
     "elapsed": 10,
     "status": "ok",
     "timestamp": 1732556300646,
     "user": {
      "displayName": "Recker",
      "userId": "16854911016069694959"
     },
     "user_tz": -330
    },
    "id": "SUUErWYP8tc_"
   },
   "outputs": [],
   "source": [
    "device = torch.device('cuda' if torch.cuda.is_available() else 'cpu')"
   ]
  },
  {
   "cell_type": "markdown",
   "metadata": {
    "id": "j-9Eb4pOADVD"
   },
   "source": [
    "#### Create Custom DataSet class"
   ]
  },
  {
   "cell_type": "code",
   "execution_count": 49,
   "metadata": {
    "executionInfo": {
     "elapsed": 9,
     "status": "ok",
     "timestamp": 1732556300646,
     "user": {
      "displayName": "Recker",
      "userId": "16854911016069694959"
     },
     "user_tz": -330
    },
    "id": "BJbAzApd_wdj"
   },
   "outputs": [],
   "source": [
    "train_dir = \"/content/dataset/Combined Dataset/train\"\n",
    "test_dir = \"/content/dataset/Combined Dataset/test\"\n"
   ]
  },
  {
   "cell_type": "markdown",
   "metadata": {
    "id": "BR2ubnkRAfX6"
   },
   "source": [
    "#### Data Transformation"
   ]
  },
  {
   "cell_type": "code",
   "execution_count": 51,
   "metadata": {
    "executionInfo": {
     "elapsed": 9,
     "status": "ok",
     "timestamp": 1732556300647,
     "user": {
      "displayName": "Recker",
      "userId": "16854911016069694959"
     },
     "user_tz": -330
    },
    "id": "1Arb_of9AhoR"
   },
   "outputs": [],
   "source": [
    "# Transform for training dataset\n",
    "train_transform = transforms.Compose([\n",
    "    transforms.Resize((128, 128)),               # Resize to 128x128\n",
    "    transforms.ToTensor(),                       # Convert image to PyTorch tensor\n",
    "])\n",
    "\n",
    "# Transform for test dataset\n",
    "test_transform = transforms.Compose([\n",
    "    transforms.Resize((128, 128)),\n",
    "    transforms.ToTensor(),\n",
    "])"
   ]
  },
  {
   "cell_type": "code",
   "execution_count": 53,
   "metadata": {
    "executionInfo": {
     "elapsed": 9,
     "status": "ok",
     "timestamp": 1732556300647,
     "user": {
      "displayName": "Recker",
      "userId": "16854911016069694959"
     },
     "user_tz": -330
    },
    "id": "tLalMy4qQTPQ"
   },
   "outputs": [],
   "source": [
    "## Loading the dataset\n",
    "\n",
    "train_dataset = ImageFolder(root=train_dir,transform=train_transform)\n",
    "test_dataset = ImageFolder(root=test_dir,transform=test_transform)"
   ]
  },
  {
   "cell_type": "code",
   "execution_count": 54,
   "metadata": {
    "executionInfo": {
     "elapsed": 9,
     "status": "ok",
     "timestamp": 1732556300647,
     "user": {
      "displayName": "Recker",
      "userId": "16854911016069694959"
     },
     "user_tz": -330
    },
    "id": "Qc8UTo4eBh2R"
   },
   "outputs": [],
   "source": [
    "# Create DataLoaders for train and test datasets\n",
    "train_loader = DataLoader(train_dataset, batch_size=32, shuffle=True)\n",
    "test_loader = DataLoader(test_dataset, batch_size=32, shuffle=False)"
   ]
  },
  {
   "cell_type": "markdown",
   "metadata": {
    "id": "sOZ481DVDR_h"
   },
   "source": [
    " Build the CNN Model"
   ]
  },
  {
   "cell_type": "code",
   "execution_count": 56,
   "metadata": {
    "executionInfo": {
     "elapsed": 8,
     "status": "ok",
     "timestamp": 1732556300647,
     "user": {
      "displayName": "Recker",
      "userId": "16854911016069694959"
     },
     "user_tz": -330
    },
    "id": "7tjrpRybCYKM"
   },
   "outputs": [],
   "source": [
    "class AlzheimerDetector(nn.Module):\n",
    "  \"\"\"\n",
    "  Model Arch replicates TinyVGG model\n",
    "  from CNN explainer website\n",
    "\n",
    "  \"\"\"\n",
    "\n",
    "  def __init__(self, input_shape:int, hidden_units:int, output_shape:int,image_dimension:int):\n",
    "    super().__init__()\n",
    "    self.conv_block_1=nn.Sequential(\n",
    "        nn.Conv2d(in_channels=input_shape,\n",
    "                  out_channels=hidden_units,\n",
    "                  kernel_size=3,\n",
    "                  stride=1,\n",
    "                  padding=1),\n",
    "        nn.ReLU(),\n",
    "        nn.Conv2d(in_channels=hidden_units,\n",
    "                  out_channels=hidden_units,\n",
    "                  kernel_size=3,\n",
    "                  stride=1,\n",
    "                  padding=1),\n",
    "        nn.ReLU(),\n",
    "        nn.MaxPool2d(kernel_size=2)\n",
    "    )\n",
    "\n",
    "    self.conv_block_2=nn.Sequential(\n",
    "    nn.Conv2d(in_channels=hidden_units,\n",
    "                  out_channels=hidden_units,\n",
    "                  kernel_size=3,\n",
    "                  stride=1,\n",
    "                  padding=1),\n",
    "    nn.ReLU(),\n",
    "    nn.Conv2d(in_channels=hidden_units,\n",
    "                  out_channels=hidden_units,\n",
    "                  kernel_size=3,\n",
    "                  stride=1,\n",
    "                  padding=1),\n",
    "    nn.ReLU(),\n",
    "    nn.MaxPool2d(kernel_size=2)\n",
    "    )\n",
    "\n",
    "    self.classifier=nn.Sequential(\n",
    "        nn.Flatten(),\n",
    "        nn.Linear(in_features=hidden_units*image_dimension//2//2*image_dimension//2//2,\n",
    "                  out_features=output_shape)\n",
    "    )\n",
    "\n",
    "  def forward(self,x):\n",
    "    return self.classifier(self.conv_block_2(self.conv_block_1(x)))\n",
    "\n"
   ]
  },
  {
   "cell_type": "code",
   "execution_count": 57,
   "metadata": {
    "colab": {
     "base_uri": "https://localhost:8080/"
    },
    "executionInfo": {
     "elapsed": 8,
     "status": "ok",
     "timestamp": 1732556300647,
     "user": {
      "displayName": "Recker",
      "userId": "16854911016069694959"
     },
     "user_tz": -330
    },
    "id": "y1DSi1KpDPlv",
    "outputId": "ed6c1fd9-ec5f-49f3-c134-355891c27b1d"
   },
   "outputs": [
    {
     "data": {
      "text/plain": [
       "AlzheimerDetector(\n",
       "  (conv_block_1): Sequential(\n",
       "    (0): Conv2d(3, 10, kernel_size=(3, 3), stride=(1, 1), padding=(1, 1))\n",
       "    (1): ReLU()\n",
       "    (2): Conv2d(10, 10, kernel_size=(3, 3), stride=(1, 1), padding=(1, 1))\n",
       "    (3): ReLU()\n",
       "    (4): MaxPool2d(kernel_size=2, stride=2, padding=0, dilation=1, ceil_mode=False)\n",
       "  )\n",
       "  (conv_block_2): Sequential(\n",
       "    (0): Conv2d(10, 10, kernel_size=(3, 3), stride=(1, 1), padding=(1, 1))\n",
       "    (1): ReLU()\n",
       "    (2): Conv2d(10, 10, kernel_size=(3, 3), stride=(1, 1), padding=(1, 1))\n",
       "    (3): ReLU()\n",
       "    (4): MaxPool2d(kernel_size=2, stride=2, padding=0, dilation=1, ceil_mode=False)\n",
       "  )\n",
       "  (classifier): Sequential(\n",
       "    (0): Flatten(start_dim=1, end_dim=-1)\n",
       "    (1): Linear(in_features=10240, out_features=4, bias=True)\n",
       "  )\n",
       ")"
      ]
     },
     "execution_count": 57,
     "metadata": {},
     "output_type": "execute_result"
    }
   ],
   "source": [
    "torch.manual_seed(42)\n",
    "model=AlzheimerDetector(input_shape=3,\n",
    "                            hidden_units=10,\n",
    "                            output_shape=4,\n",
    "                            image_dimension=128).to(device)\n",
    "\n",
    "model"
   ]
  },
  {
   "cell_type": "code",
   "execution_count": 59,
   "metadata": {
    "colab": {
     "base_uri": "https://localhost:8080/"
    },
    "executionInfo": {
     "elapsed": 4,
     "status": "ok",
     "timestamp": 1732556301374,
     "user": {
      "displayName": "Recker",
      "userId": "16854911016069694959"
     },
     "user_tz": -330
    },
    "id": "54iIQqCsImUd",
    "outputId": "48b90798-a1b9-4ee4-c51a-1978084f1ce9"
   },
   "outputs": [
    {
     "data": {
      "text/plain": [
       "torch.Size([32, 3, 128, 128])"
      ]
     },
     "execution_count": 59,
     "metadata": {},
     "output_type": "execute_result"
    }
   ],
   "source": [
    "## Load a sample image from train dataloader\n",
    "sample_batch,sample_label=next(iter(train_loader))\n",
    "sample_batch.shape"
   ]
  },
  {
   "cell_type": "code",
   "execution_count": 60,
   "metadata": {
    "colab": {
     "base_uri": "https://localhost:8080/"
    },
    "executionInfo": {
     "elapsed": 973,
     "status": "ok",
     "timestamp": 1732556302344,
     "user": {
      "displayName": "Recker",
      "userId": "16854911016069694959"
     },
     "user_tz": -330
    },
    "id": "lWYxmiF5DjH9",
    "outputId": "42706c38-c209-4836-91f0-ef9d2d54c8f9"
   },
   "outputs": [
    {
     "name": "stdout",
     "output_type": "stream",
     "text": [
      "torch.Size([32, 3, 128, 128])\n",
      "torch.Size([32, 10, 64, 64])\n",
      "torch.Size([32, 10, 32, 32])\n",
      "torch.Size([32, 4])\n"
     ]
    }
   ],
   "source": [
    "image = torch.randn(32,3,128,128)\n",
    "\n",
    "conv_block_1=nn.Sequential(\n",
    "        nn.Conv2d(in_channels=3,\n",
    "                  out_channels=10,\n",
    "                  kernel_size=3,\n",
    "                  stride=1,\n",
    "                  padding=1),\n",
    "        nn.ReLU(),\n",
    "        nn.Conv2d(in_channels=10,\n",
    "                  out_channels=10,\n",
    "                  kernel_size=3,\n",
    "                  stride=1,\n",
    "                  padding=1),\n",
    "        nn.ReLU(),\n",
    "        nn.MaxPool2d(kernel_size=2)\n",
    "    )\n",
    "\n",
    "conv_block_2=nn.Sequential(\n",
    "    nn.Conv2d(in_channels=10,\n",
    "                  out_channels=10,\n",
    "                  kernel_size=3,\n",
    "                  stride=1,\n",
    "                  padding=1),\n",
    "    nn.ReLU(),\n",
    "    nn.Conv2d(in_channels=10,\n",
    "                  out_channels=10,\n",
    "                  kernel_size=3,\n",
    "                  stride=1,\n",
    "                  padding=1),\n",
    "    nn.ReLU(),\n",
    "    nn.MaxPool2d(kernel_size=2)\n",
    "    )\n",
    "classifier=nn.Sequential(\n",
    "        nn.Flatten(),\n",
    "        nn.Linear(in_features=10*32*32,\n",
    "                  out_features=4)\n",
    "    )\n",
    "\n",
    "print(image.shape)\n",
    "print(conv_block_1(image).shape)\n",
    "print(conv_block_2(conv_block_1(image)).shape)\n",
    "print(classifier(conv_block_2(conv_block_1(image))).shape)"
   ]
  },
  {
   "cell_type": "markdown",
   "metadata": {
    "id": "lRejqIyLGfnX"
   },
   "source": [
    "## Get Helper Functions"
   ]
  },
  {
   "cell_type": "code",
   "execution_count": 61,
   "metadata": {
    "colab": {
     "base_uri": "https://localhost:8080/"
    },
    "executionInfo": {
     "elapsed": 8,
     "status": "ok",
     "timestamp": 1732556302345,
     "user": {
      "displayName": "Recker",
      "userId": "16854911016069694959"
     },
     "user_tz": -330
    },
    "id": "Yo1c__J8D7i0",
    "outputId": "c400f534-8fa3-4503-a283-108547a95d33"
   },
   "outputs": [
    {
     "name": "stdout",
     "output_type": "stream",
     "text": [
      "Skipping download, helper_functions.py exists!\n"
     ]
    }
   ],
   "source": [
    "import requests\n",
    "import os\n",
    "\n",
    "if os.path.exists(\"helper_functions.py\"):\n",
    "  print(\"Skipping download, helper_functions.py exists!\")\n",
    "else:\n",
    "  print(\"Downloading helper_functions.py\")\n",
    "  request = requests.get(\"https://raw.githubusercontent.com/mrdbourke/pytorch-deep-learning/refs/heads/main/helper_functions.py\")\n",
    "  with open(\"helper_functions.py\", \"wb\") as f:\n",
    "    f.write(request.content)"
   ]
  },
  {
   "cell_type": "code",
   "execution_count": 62,
   "metadata": {
    "executionInfo": {
     "elapsed": 7,
     "status": "ok",
     "timestamp": 1732556302345,
     "user": {
      "displayName": "Recker",
      "userId": "16854911016069694959"
     },
     "user_tz": -330
    },
    "id": "yK-fozYuGdpE"
   },
   "outputs": [],
   "source": [
    "from helper_functions import plot_predictions, plot_decision_boundary, accuracy_fn, print_train_time"
   ]
  },
  {
   "cell_type": "markdown",
   "metadata": {
    "id": "5ZmrNhTQGlkq"
   },
   "source": [
    "## Train-Test Loop time Functions"
   ]
  },
  {
   "cell_type": "code",
   "execution_count": 63,
   "metadata": {
    "executionInfo": {
     "elapsed": 7,
     "status": "ok",
     "timestamp": 1732556302345,
     "user": {
      "displayName": "Recker",
      "userId": "16854911016069694959"
     },
     "user_tz": -330
    },
    "id": "douVg5gyG1b2"
   },
   "outputs": [],
   "source": [
    "train_loss_arr=[]\n",
    "test_loss_arr=[]\n",
    "\n",
    "train_acc_arr=[]\n",
    "test_acc_arr=[]"
   ]
  },
  {
   "cell_type": "code",
   "execution_count": 64,
   "metadata": {
    "executionInfo": {
     "elapsed": 7,
     "status": "ok",
     "timestamp": 1732556302345,
     "user": {
      "displayName": "Recker",
      "userId": "16854911016069694959"
     },
     "user_tz": -330
    },
    "id": "AnsQ433jGhVw"
   },
   "outputs": [],
   "source": [
    "def train_step(model:nn.Module,\n",
    "               dataloader:torch.utils.data.DataLoader,\n",
    "               loss_fn:torch.nn.Module,\n",
    "               optimizer:torch.optim.Optimizer,\n",
    "               device:torch.device,\n",
    "               accuracy_fn:accuracy_fn):\n",
    "\n",
    "  \"\"\"Performs a training with model trying to learn on data_loader\"\"\"\n",
    "\n",
    "  train_loss,train_acc=0,0\n",
    "  model.train()\n",
    "\n",
    "\n",
    "\n",
    "    ## Training\n",
    "  train_loss=0 ## for calculating training_loss per batch\n",
    "\n",
    "    ## Add a loop to loop through the training batches\n",
    "  for batch,(X,y) in enumerate(dataloader):\n",
    "\n",
    "    X,y=X.to(device),y.to(device)\n",
    "\n",
    "      ## Forward pass\n",
    "    y_pred=model(X)\n",
    "\n",
    "      ## Calc the loss(per batch)\n",
    "    loss=loss_fn(y_pred,y)\n",
    "    train_loss+=loss.item()\n",
    "    train_acc+=accuracy_fn(y,y_pred.argmax(dim=1))\n",
    "\n",
    "      ## Optimizer zero grad\n",
    "    optimizer.zero_grad()\n",
    "\n",
    "      ## Loss backward\n",
    "    loss.backward()\n",
    "\n",
    "      ## Optimizer step\n",
    "    optimizer.step()\n",
    "\n",
    "\n",
    "\n",
    "  train_loss/=len(dataloader)\n",
    "  train_acc/=len(dataloader)\n",
    "\n",
    "  train_loss_arr.append(train_loss)\n",
    "  train_acc_arr.append(train_acc)\n",
    "\n",
    "  print(f\"\\n Train Loss: {train_loss:.4f}  | Train Accuracy: {train_acc}\")\n",
    "\n",
    "\n",
    "\n"
   ]
  },
  {
   "cell_type": "code",
   "execution_count": 65,
   "metadata": {
    "executionInfo": {
     "elapsed": 7,
     "status": "ok",
     "timestamp": 1732556302345,
     "user": {
      "displayName": "Recker",
      "userId": "16854911016069694959"
     },
     "user_tz": -330
    },
    "id": "VVWHYapEHNs2"
   },
   "outputs": [],
   "source": [
    "def test_step(model:nn.Module,\n",
    "               dataloader:torch.utils.data.DataLoader,\n",
    "               loss_fn:torch.nn.Module,\n",
    "               device:torch.device,\n",
    "               accuracy_fn:accuracy_fn):\n",
    "\n",
    "  \"\"\"Performs a testing with model trying to learn on data_loader\"\"\"\n",
    "\n",
    "  test_loss,test_acc=0,0\n",
    "  model.eval()\n",
    "\n",
    "  with torch.inference_mode():\n",
    "    for batch,(X,y) in enumerate(dataloader):\n",
    "\n",
    "      X,y=X.to(device),y.to(device)\n",
    "\n",
    "      ## Forward pass\n",
    "      y_pred=model(X)\n",
    "\n",
    "      ## Calc the loss(per batch)\n",
    "      loss=loss_fn(y_pred,y)\n",
    "      test_loss+=loss.item()\n",
    "      test_acc+=accuracy_fn(y,y_pred.argmax(dim=1))\n",
    "\n",
    "    test_loss/=len(dataloader)\n",
    "    test_acc/=len(dataloader)\n",
    "    test_loss_arr.append(test_loss)\n",
    "    test_acc_arr.append(test_acc)\n",
    "\n",
    "  print(f\"\\n Test Loss: {test_loss:.4f}  | Test Accuracy: {test_acc}\")\n",
    "\n"
   ]
  },
  {
   "cell_type": "code",
   "execution_count": 66,
   "metadata": {
    "executionInfo": {
     "elapsed": 6,
     "status": "ok",
     "timestamp": 1732556302345,
     "user": {
      "displayName": "Recker",
      "userId": "16854911016069694959"
     },
     "user_tz": -330
    },
    "id": "I7yMWQrUHcvL"
   },
   "outputs": [],
   "source": [
    "torch.manual_seed(42)\n",
    "\n",
    "def eval_model(model: torch.nn.Module,\n",
    "               data_loader: torch.utils.data.DataLoader,\n",
    "               loss_fn=torch.nn.Module,\n",
    "               accuracy_fn=accuracy_fn):\n",
    "  \"\"\"\n",
    "  Returns a dictionary containing the results of model predicting on data_loader.\n",
    "  \"\"\"\n",
    "\n",
    "  loss,acc=0,0\n",
    "\n",
    "  model.eval()\n",
    "  with torch.inference_mode():\n",
    "\n",
    "    for X,y in data_loader:\n",
    "\n",
    "      X,y=X.to(device),y.to(device)\n",
    "\n",
    "      ## Forward pass\n",
    "      y_pred=model(X)\n",
    "      ## Calc the loss(per batch)\n",
    "      loss+=loss_fn(y_pred,y)\n",
    "      ## Calc the accuracy(per batch)\n",
    "      acc+=accuracy_fn(y,y_pred.argmax(dim=1))\n",
    "\n",
    "    ## Adjust metrics to get average loss and accuracy per batch\n",
    "    loss=loss/len(data_loader)\n",
    "    acc/=len(data_loader)\n",
    "\n",
    "\n",
    "  return {\"model_name\":model.__class__.__name__,\n",
    "          \"model_loss\":loss.item(),\n",
    "          \"model_acc\":acc}"
   ]
  },
  {
   "cell_type": "markdown",
   "metadata": {
    "id": "ZefsGKFcHf4X"
   },
   "source": [
    "## Setting up Loss function and optimizer"
   ]
  },
  {
   "cell_type": "code",
   "execution_count": 67,
   "metadata": {
    "executionInfo": {
     "elapsed": 6,
     "status": "ok",
     "timestamp": 1732556302345,
     "user": {
      "displayName": "Recker",
      "userId": "16854911016069694959"
     },
     "user_tz": -330
    },
    "id": "KTktK-j9HdXu"
   },
   "outputs": [],
   "source": [
    "## Train the CNN on our dataset\n",
    "\n",
    "## Setup loss func, eval metrics, optimizer\n",
    "loss_fn=nn.CrossEntropyLoss()\n",
    "optimizer=torch.optim.Adam(params=model.parameters(),\n",
    "                          lr=0.001)\n"
   ]
  },
  {
   "cell_type": "code",
   "execution_count": 68,
   "metadata": {
    "colab": {
     "base_uri": "https://localhost:8080/",
     "height": 1000,
     "referenced_widgets": [
      "d05008956d4b4c0f82e98685dcd47117",
      "d8991b4b33a94ae09bcf3b7f8bd3a278",
      "cacc48e415e74a52830052d5d50846f4",
      "72a6396bfb3b471c8dab67b094a67fd1",
      "00af3be2abb34a33b7b08b39c9dba3cb",
      "09971a0c56344531aa10a04b41568b87",
      "33b0f88172534a468ba501968feb534f",
      "250e473ffe4c4cfbb8131a2eb202ec75",
      "6125792365ce4c50b386f719e62715dd",
      "8011e0e5b3f84792bfa441f219053862",
      "b6ff4b9390b74beda6dc4b35ebee5b64"
     ]
    },
    "executionInfo": {
     "elapsed": 197466,
     "status": "ok",
     "timestamp": 1732556499805,
     "user": {
      "displayName": "Recker",
      "userId": "16854911016069694959"
     },
     "user_tz": -330
    },
    "id": "6YeAI0aaHjBw",
    "outputId": "8a8ce418-dfc0-4b62-dd31-9052aa8f81d7"
   },
   "outputs": [
    {
     "data": {
      "application/vnd.jupyter.widget-view+json": {
       "model_id": "d05008956d4b4c0f82e98685dcd47117",
       "version_major": 2,
       "version_minor": 0
      },
      "text/plain": [
       "  0%|          | 0/20 [00:00<?, ?it/s]"
      ]
     },
     "metadata": {},
     "output_type": "display_data"
    },
    {
     "name": "stdout",
     "output_type": "stream",
     "text": [
      "Epoch: 0\n",
      "---------\n",
      "\n",
      " Train Loss: 1.3885  | Train Accuracy: 24.39453125\n",
      "\n",
      " Test Loss: 1.3843  | Test Accuracy: 50.0\n",
      "Epoch: 1\n",
      "---------\n",
      "\n",
      " Train Loss: 1.2985  | Train Accuracy: 32.2265625\n",
      "\n",
      " Test Loss: 0.8672  | Test Accuracy: 61.28780241935484\n",
      "Epoch: 2\n",
      "---------\n",
      "\n",
      " Train Loss: 0.3823  | Train Accuracy: 84.013671875\n",
      "\n",
      " Test Loss: 0.5530  | Test Accuracy: 75.99546370967741\n",
      "Epoch: 3\n",
      "---------\n",
      "\n",
      " Train Loss: 0.2076  | Train Accuracy: 91.71875\n",
      "\n",
      " Test Loss: 0.3918  | Test Accuracy: 84.3523185483871\n",
      "Epoch: 4\n",
      "---------\n",
      "\n",
      " Train Loss: 0.1243  | Train Accuracy: 95.1953125\n",
      "\n",
      " Test Loss: 0.3476  | Test Accuracy: 86.30292338709677\n",
      "Epoch: 5\n",
      "---------\n",
      "\n",
      " Train Loss: 0.0874  | Train Accuracy: 96.865234375\n",
      "\n",
      " Test Loss: 0.3826  | Test Accuracy: 86.05594758064515\n",
      "Epoch: 6\n",
      "---------\n",
      "\n",
      " Train Loss: 0.0707  | Train Accuracy: 97.55859375\n",
      "\n",
      " Test Loss: 0.2975  | Test Accuracy: 89.03729838709677\n",
      "Epoch: 7\n",
      "---------\n",
      "\n",
      " Train Loss: 0.0405  | Train Accuracy: 98.59375\n",
      "\n",
      " Test Loss: 0.1924  | Test Accuracy: 93.27620967741936\n",
      "Epoch: 8\n",
      "---------\n",
      "\n",
      " Train Loss: 0.0362  | Train Accuracy: 98.671875\n",
      "\n",
      " Test Loss: 0.4341  | Test Accuracy: 86.68850806451613\n",
      "Epoch: 9\n",
      "---------\n",
      "\n",
      " Train Loss: 0.0280  | Train Accuracy: 98.876953125\n",
      "\n",
      " Test Loss: 0.1906  | Test Accuracy: 93.59375\n",
      "Epoch: 10\n",
      "---------\n",
      "\n",
      " Train Loss: 0.0175  | Train Accuracy: 99.384765625\n",
      "\n",
      " Test Loss: 0.2093  | Test Accuracy: 93.35181451612904\n",
      "Epoch: 11\n",
      "---------\n",
      "\n",
      " Train Loss: 0.0343  | Train Accuracy: 98.76953125\n",
      "\n",
      " Test Loss: 0.2023  | Test Accuracy: 93.04183467741936\n",
      "Epoch: 12\n",
      "---------\n",
      "\n",
      " Train Loss: 0.0214  | Train Accuracy: 99.189453125\n",
      "\n",
      " Test Loss: 0.1681  | Test Accuracy: 93.20060483870968\n",
      "Epoch: 13\n",
      "---------\n",
      "\n",
      " Train Loss: 0.0174  | Train Accuracy: 99.453125\n",
      "\n",
      " Test Loss: 0.2011  | Test Accuracy: 93.5836693548387\n",
      "Epoch: 14\n",
      "---------\n",
      "\n",
      " Train Loss: 0.0256  | Train Accuracy: 99.1015625\n",
      "\n",
      " Test Loss: 0.2642  | Test Accuracy: 91.15675403225806\n",
      "Epoch: 15\n",
      "---------\n",
      "\n",
      " Train Loss: 0.0159  | Train Accuracy: 99.462890625\n",
      "\n",
      " Test Loss: 0.1715  | Test Accuracy: 94.53125\n",
      "Epoch: 16\n",
      "---------\n",
      "\n",
      " Train Loss: 0.0277  | Train Accuracy: 99.013671875\n",
      "\n",
      " Test Loss: 0.3499  | Test Accuracy: 90.77872983870968\n",
      "Epoch: 17\n",
      "---------\n",
      "\n",
      " Train Loss: 0.0161  | Train Accuracy: 99.4140625\n",
      "\n",
      " Test Loss: 0.2003  | Test Accuracy: 94.35735887096774\n",
      "Epoch: 18\n",
      "---------\n",
      "\n",
      " Train Loss: 0.0171  | Train Accuracy: 99.43359375\n",
      "\n",
      " Test Loss: 0.1574  | Test Accuracy: 95.46370967741936\n",
      "Epoch: 19\n",
      "---------\n",
      "\n",
      " Train Loss: 0.0039  | Train Accuracy: 99.8828125\n",
      "\n",
      " Test Loss: 0.1574  | Test Accuracy: 95.46622983870968\n",
      "\n",
      "Train time on cuda:0: 197.285 seconds\n",
      "Train time on cuda: 197.285 seconds\n"
     ]
    }
   ],
   "source": [
    "torch.manual_seed(42)\n",
    "torch.cuda.manual_seed(42)\n",
    "\n",
    "from timeit import default_timer as timer\n",
    "from tqdm.auto import tqdm ## For progress bar\n",
    "\n",
    "epochs=20\n",
    "\n",
    "train_time_on_device_start=timer()\n",
    "\n",
    "for epoch in tqdm(range(epochs)):\n",
    "  print(f\"Epoch: {epoch}\\n---------\")\n",
    "\n",
    "\n",
    "  train_step(model=model,\n",
    "             dataloader=train_loader,\n",
    "             loss_fn=loss_fn,\n",
    "             optimizer=optimizer,\n",
    "             device=device,\n",
    "             accuracy_fn=accuracy_fn)\n",
    "\n",
    "  test_step(model=model,\n",
    "            dataloader=test_loader,\n",
    "            loss_fn=loss_fn,\n",
    "            device=device,\n",
    "            accuracy_fn=accuracy_fn)\n",
    "\n",
    "\n",
    "train_time_on_device_end=timer()\n",
    "\n",
    "total_train_time_on_device=print_train_time(start=train_time_on_device_start,\n",
    "                                         end=train_time_on_device_end,\n",
    "                                         device=str(next(model.parameters()).device))\n",
    "\n",
    "\n",
    "print(f\"Train time on {device}: {total_train_time_on_device:.3f} seconds\")"
   ]
  },
  {
   "cell_type": "code",
   "execution_count": 70,
   "metadata": {
    "colab": {
     "base_uri": "https://localhost:8080/",
     "height": 449
    },
    "executionInfo": {
     "elapsed": 746,
     "status": "ok",
     "timestamp": 1732556545711,
     "user": {
      "displayName": "Recker",
      "userId": "16854911016069694959"
     },
     "user_tz": -330
    },
    "id": "KM8uzcq6MHIg",
    "outputId": "27edc4ce-3e23-4358-ce77-e82359a6347d"
   },
   "outputs": [
    {
     "data": {
      "image/png": "[encoded data removed]",
      "text/plain": [
       "<Figure size 640x480 with 1 Axes>"
      ]
     },
     "metadata": {},
     "output_type": "display_data"
    }
   ],
   "source": [
    "## Using the train-test loss array plot the loss over epochs\n",
    "\n",
    "epochs_range = range(1, len(train_loss_arr)+1)\n",
    "\n",
    "plt.plot(epochs_range, train_loss_arr, label='Training Loss')\n",
    "plt.plot(epochs_range, test_loss_arr, label='Test Loss')\n",
    "plt.xlabel('Epochs')\n",
    "plt.ylabel('Loss')\n",
    "plt.legend()\n",
    "\n",
    "plt.show()\n"
   ]
  },
  {
   "cell_type": "code",
   "execution_count": 71,
   "metadata": {
    "colab": {
     "base_uri": "https://localhost:8080/"
    },
    "executionInfo": {
     "elapsed": 1974,
     "status": "ok",
     "timestamp": 1732556692105,
     "user": {
      "displayName": "Recker",
      "userId": "16854911016069694959"
     },
     "user_tz": -330
    },
    "id": "-QvYQUdSbPd9",
    "outputId": "97a40afa-172d-4dc1-aaf2-f94bd6250442"
   },
   "outputs": [
    {
     "data": {
      "text/plain": [
       "{'model_name': 'AlzheimerDetector',\n",
       " 'model_loss': 0.157427117228508,\n",
       " 'model_acc': 95.46622983870968}"
      ]
     },
     "execution_count": 71,
     "metadata": {},
     "output_type": "execute_result"
    }
   ],
   "source": [
    "## Model Performance on Train Data\n",
    "\n",
    "eval_model(model=model,\n",
    "           data_loader=test_loader,\n",
    "           loss_fn=loss_fn,\n",
    "           accuracy_fn=accuracy_fn)"
   ]
  },
  {
   "cell_type": "code",
   "execution_count": 159,
   "metadata": {
    "colab": {
     "base_uri": "https://localhost:8080/"
    },
    "executionInfo": {
     "elapsed": 8800,
     "status": "ok",
     "timestamp": 1732559874137,
     "user": {
      "displayName": "Recker",
      "userId": "16854911016069694959"
     },
     "user_tz": -330
    },
    "id": "O_K1zDr9nVgo",
    "outputId": "dd710cc2-1775-4c54-c31a-19829c3fefe2"
   },
   "outputs": [
    {
     "data": {
      "text/plain": [
       "{'model_name': 'AlzheimerDetector',\n",
       " 'model_loss': 0.003553879214450717,\n",
       " 'model_acc': 99.90234375}"
      ]
     },
     "execution_count": 159,
     "metadata": {},
     "output_type": "execute_result"
    }
   ],
   "source": [
    "## Model Performance on Test Data\n",
    "\n",
    "eval_model(model=model,\n",
    "           data_loader=train_loader,\n",
    "           loss_fn=loss_fn,\n",
    "           accuracy_fn=accuracy_fn)"
   ]
  },
  {
   "cell_type": "markdown",
   "metadata": {
    "id": "6wFCdT6GarY1"
   },
   "source": [
    "## Perform Model Metric Analysis"
   ]
  },
  {
   "cell_type": "markdown",
   "metadata": {
    "id": "QrbDAFrDbuUi"
   },
   "source": [
    "## Inferencing and Confusion Matrix"
   ]
  },
  {
   "cell_type": "code",
   "execution_count": 74,
   "metadata": {
    "colab": {
     "base_uri": "https://localhost:8080/"
    },
    "executionInfo": {
     "elapsed": 4892,
     "status": "ok",
     "timestamp": 1732556825375,
     "user": {
      "displayName": "Recker",
      "userId": "16854911016069694959"
     },
     "user_tz": -330
    },
    "id": "jnzwoPq6bhSt",
    "outputId": "af63ee3f-1e45-406d-86cb-793802cf40b7"
   },
   "outputs": [
    {
     "name": "stdout",
     "output_type": "stream",
     "text": [
      "\u001b[?25l   \u001b[90m━━━━━━━━━━━━━━━━━━━━━━━━━━━━━━━━━━━━━━━━\u001b[0m \u001b[32m0.0/926.4 kB\u001b[0m \u001b[31m?\u001b[0m eta \u001b[36m-:--:--\u001b[0m\r\u001b[2K   \u001b[91m━━━━━━━━━━━━━━━━━━━━━━━━━━━━━━━━━━━━━━━\u001b[0m\u001b[91m╸\u001b[0m \u001b[32m921.6/926.4 kB\u001b[0m \u001b[31m28.6 MB/s\u001b[0m eta \u001b[36m0:00:01\u001b[0m\r\u001b[2K   \u001b[90m━━━━━━━━━━━━━━━━━━━━━━━━━━━━━━━━━━━━━━━━\u001b[0m \u001b[32m926.4/926.4 kB\u001b[0m \u001b[31m18.5 MB/s\u001b[0m eta \u001b[36m0:00:00\u001b[0m\n",
      "\u001b[?25h"
     ]
    }
   ],
   "source": [
    "!pip install -q torchmetrics"
   ]
  },
  {
   "cell_type": "code",
   "execution_count": 173,
   "metadata": {
    "executionInfo": {
     "elapsed": 725,
     "status": "ok",
     "timestamp": 1732560628896,
     "user": {
      "displayName": "Recker",
      "userId": "16854911016069694959"
     },
     "user_tz": -330
    },
    "id": "IlrukfDHbw0N"
   },
   "outputs": [],
   "source": [
    "import mlxtend\n",
    "import torchmetrics\n",
    "from tqdm import tqdm\n",
    "from sklearn.metrics import precision_score, recall_score, f1_score, accuracy_score"
   ]
  },
  {
   "cell_type": "code",
   "execution_count": 139,
   "metadata": {
    "executionInfo": {
     "elapsed": 476,
     "status": "ok",
     "timestamp": 1732559539208,
     "user": {
      "displayName": "Recker",
      "userId": "16854911016069694959"
     },
     "user_tz": -330
    },
    "id": "o7XcsJ2pbyOx"
   },
   "outputs": [],
   "source": [
    "def make_predictions(\n",
    "    model: torch.nn.Module,\n",
    "    dataloader: torch.utils.data.DataLoader,\n",
    "    device: torch.device = torch.device(\"cuda\" if torch.cuda.is_available() else \"cpu\")\n",
    "):\n",
    "    y_preds = []\n",
    "    y_true = []\n",
    "\n",
    "    model.to(device)\n",
    "    model.eval()\n",
    "\n",
    "    with torch.inference_mode():\n",
    "        for X, y in tqdm(dataloader, desc=\"Making predictions...\"):\n",
    "            X, y = X.to(device), y.to(device)\n",
    "\n",
    "            # Forward pass\n",
    "            y_logit = model(X)\n",
    "\n",
    "            # Get prediction probabilities and predicted labels\n",
    "            y_pred = torch.softmax(y_logit, dim=1).argmax(dim=1)\n",
    "\n",
    "            # Collect predictions and true labels\n",
    "            y_preds.append(y_pred.cpu())\n",
    "            y_true.append(y.cpu())\n",
    "\n",
    "    # Combine all predictions and true labels into tensors\n",
    "    y_preds = torch.cat(y_preds)\n",
    "    y_true = torch.cat(y_true)\n",
    "\n",
    "    return y_preds, y_true\n"
   ]
  },
  {
   "cell_type": "markdown",
   "metadata": {
    "id": "V7yjVzYIl6Xa"
   },
   "source": [
    "### Importing Deps for Confusion Matrix"
   ]
  },
  {
   "cell_type": "code",
   "execution_count": 134,
   "metadata": {
    "executionInfo": {
     "elapsed": 442,
     "status": "ok",
     "timestamp": 1732559155274,
     "user": {
      "displayName": "Recker",
      "userId": "16854911016069694959"
     },
     "user_tz": -330
    },
    "id": "WlOomkQSb5ZH"
   },
   "outputs": [],
   "source": [
    "from torchmetrics import ConfusionMatrix\n",
    "from mlxtend.plotting import plot_confusion_matrix\n"
   ]
  },
  {
   "cell_type": "markdown",
   "metadata": {
    "id": "F0qgVtvvl-ZU"
   },
   "source": [
    "### Train Data Confusion Matrix and Metrics"
   ]
  },
  {
   "cell_type": "code",
   "execution_count": 182,
   "metadata": {
    "colab": {
     "base_uri": "https://localhost:8080/"
    },
    "executionInfo": {
     "elapsed": 8145,
     "status": "ok",
     "timestamp": 1732560792054,
     "user": {
      "displayName": "Recker",
      "userId": "16854911016069694959"
     },
     "user_tz": -330
    },
    "id": "AO-OIKiLmMhY",
    "outputId": "94a83676-1582-4ec4-e550-e0ad1eefb7a3"
   },
   "outputs": [
    {
     "name": "stderr",
     "output_type": "stream",
     "text": [
      "Making predictions...: 100%|██████████| 320/320 [00:07<00:00, 40.25it/s]\n"
     ]
    }
   ],
   "source": [
    "y_preds_train,y_true_train=make_predictions(model=model,\n",
    "                 dataloader=train_loader)"
   ]
  },
  {
   "cell_type": "code",
   "execution_count": 183,
   "metadata": {
    "executionInfo": {
     "elapsed": 447,
     "status": "ok",
     "timestamp": 1732560796234,
     "user": {
      "displayName": "Recker",
      "userId": "16854911016069694959"
     },
     "user_tz": -330
    },
    "id": "_nSrz3WHmDyZ"
   },
   "outputs": [],
   "source": [
    "confmat = ConfusionMatrix(num_classes=len(train_dataset.classes),\n",
    "                          task=\"multiclass\")\n",
    "\n",
    "confmat_tensor=confmat(preds=y_preds_train,target=y_true_train)\n"
   ]
  },
  {
   "cell_type": "code",
   "execution_count": 184,
   "metadata": {
    "colab": {
     "base_uri": "https://localhost:8080/",
     "height": 722
    },
    "executionInfo": {
     "elapsed": 789,
     "status": "ok",
     "timestamp": 1732560799631,
     "user": {
      "displayName": "Recker",
      "userId": "16854911016069694959"
     },
     "user_tz": -330
    },
    "id": "5DsHu-kumQUK",
    "outputId": "3a155cec-24af-476b-b315-87dd6ded4905"
   },
   "outputs": [
    {
     "data": {
      "image/png": "[encoded data removed]",
      "text/plain": [
       "<Figure size 1000x700 with 1 Axes>"
      ]
     },
     "metadata": {},
     "output_type": "display_data"
    }
   ],
   "source": [
    "## Plot the confusion matrix\n",
    "\n",
    "fig,ax=plot_confusion_matrix(conf_mat=confmat_tensor.numpy(),\n",
    "                           figsize=(10,7),\n",
    "                           class_names=train_dataset.classes)\n",
    "plt.show()"
   ]
  },
  {
   "cell_type": "code",
   "execution_count": 185,
   "metadata": {
    "colab": {
     "base_uri": "https://localhost:8080/"
    },
    "executionInfo": {
     "elapsed": 428,
     "status": "ok",
     "timestamp": 1732560802067,
     "user": {
      "displayName": "Recker",
      "userId": "16854911016069694959"
     },
     "user_tz": -330
    },
    "id": "QNoqSPCBmu-t",
    "outputId": "e4df0583-b45b-4a31-bd80-8e8998d9f55f"
   },
   "outputs": [
    {
     "name": "stdout",
     "output_type": "stream",
     "text": [
      "Precision for Training Data: 0.9990\n",
      "Recall for Training Data: 0.9990\n",
      "F1-score for Training Data: 0.9990\n",
      "Accuracy for Training Data: 0.9990\n"
     ]
    }
   ],
   "source": [
    "## Metrics\n",
    "\n",
    "precision = precision_score(y_true_train, y_preds_train, average='weighted')\n",
    "recall = recall_score(y_true_train, y_preds_train, average='weighted')\n",
    "f1 = f1_score(y_true_train, y_preds_train, average='weighted')\n",
    "accuracy=accuracy_score(y_true_train, y_preds_train)\n",
    "\n",
    "print(f\"Precision for Training Data: {precision:.4f}\")\n",
    "print(f\"Recall for Training Data: {recall:.4f}\")\n",
    "print(f\"F1-score for Training Data: {f1:.4f}\")\n",
    "print(f\"Accuracy for Training Data: {accuracy:.4f}\")"
   ]
  },
  {
   "cell_type": "markdown",
   "metadata": {
    "id": "dtff9mNSl2Kh"
   },
   "source": [
    "### Test Data Confusion Matrix"
   ]
  },
  {
   "cell_type": "code",
   "execution_count": 186,
   "metadata": {
    "colab": {
     "base_uri": "https://localhost:8080/"
    },
    "executionInfo": {
     "elapsed": 1184,
     "status": "ok",
     "timestamp": 1732560814657,
     "user": {
      "displayName": "Recker",
      "userId": "16854911016069694959"
     },
     "user_tz": -330
    },
    "id": "t5l1MU4QmKv4",
    "outputId": "47724f3f-92cb-4a03-9dc6-64ada8e5d8e3"
   },
   "outputs": [
    {
     "name": "stderr",
     "output_type": "stream",
     "text": [
      "Making predictions...: 100%|██████████| 40/40 [00:01<00:00, 36.57it/s]\n"
     ]
    }
   ],
   "source": [
    "y_preds_test,y_true_test=make_predictions(model=model,\n",
    "                 dataloader=test_loader)"
   ]
  },
  {
   "cell_type": "code",
   "execution_count": 187,
   "metadata": {
    "executionInfo": {
     "elapsed": 2,
     "status": "ok",
     "timestamp": 1732560815378,
     "user": {
      "displayName": "Recker",
      "userId": "16854911016069694959"
     },
     "user_tz": -330
    },
    "id": "2kkSKqonb_RL"
   },
   "outputs": [],
   "source": [
    "confmat = ConfusionMatrix(num_classes=len(test_dataset.classes),\n",
    "                          task=\"multiclass\")\n",
    "\n",
    "confmat_tensor=confmat(preds=y_preds_test,target=y_true_test)\n"
   ]
  },
  {
   "cell_type": "code",
   "execution_count": 188,
   "metadata": {
    "colab": {
     "base_uri": "https://localhost:8080/",
     "height": 722
    },
    "executionInfo": {
     "elapsed": 593,
     "status": "ok",
     "timestamp": 1732560817790,
     "user": {
      "displayName": "Recker",
      "userId": "16854911016069694959"
     },
     "user_tz": -330
    },
    "id": "jugG79ZzcLQR",
    "outputId": "b7ef290f-6b11-429f-94db-cbfaed613453"
   },
   "outputs": [
    {
     "data": {
      "image/png": "[encoded data removed]",
      "text/plain": [
       "<Figure size 1000x700 with 1 Axes>"
      ]
     },
     "metadata": {},
     "output_type": "display_data"
    }
   ],
   "source": [
    "## Plot the confusion matrix\n",
    "\n",
    "fig,ax=plot_confusion_matrix(conf_mat=confmat_tensor.numpy(),\n",
    "                           figsize=(10,7),\n",
    "                           class_names=train_dataset.classes)\n",
    "plt.show()"
   ]
  },
  {
   "cell_type": "code",
   "execution_count": null,
   "metadata": {
    "colab": {
     "base_uri": "https://localhost:8080/"
    },
    "executionInfo": {
     "elapsed": 459,
     "status": "ok",
     "timestamp": 1732560829394,
     "user": {
      "displayName": "Recker",
      "userId": "16854911016069694959"
     },
     "user_tz": -330
    },
    "id": "LRB2nrymdY3i",
    "outputId": "6d047cc1-5196-4937-ffa5-ad5b75ae1fa8"
   },
   "outputs": [
    {
     "name": "stdout",
     "output_type": "stream",
     "text": [
      "Precision for Testing Data: 0.9563\n",
      "Recall for Testing Data: 0.9547\n",
      "F1-score for Testing Data: 0.9548\n",
      "Accuracy for Training Data: 0.9547\n"
     ]
    }
   ],
   "source": [
    "## Metrics\n",
    "\n",
    "precision = precision_score(y_true_test, y_preds_test, average='weighted')\n",
    "recall = recall_score(y_true_test, y_preds_test, average='weighted')\n",
    "f1 = f1_score(y_true_test, y_preds_test, average='weighted')\n",
    "accuracy=accuracy_score(y_true_test, y_preds_test)\n",
    "\n",
    "\n",
    "print(f\"Precision for Testing Data: {precision:.4f}\")\n",
    "print(f\"Recall for Testing Data: {recall:.4f}\")\n",
    "print(f\"F1-score for Testing Data: {f1:.4f}\")\n",
    "print(f\"Accuracy for Testing Data: {accuracy:.4f}\")"
   ]
  },
  {
   "cell_type": "markdown",
   "metadata": {
    "id": "e4V57DnhpzjD"
   },
   "source": [
    "## Saving the Model"
   ]
  },
  {
   "cell_type": "code",
   "execution_count": 170,
   "metadata": {
    "executionInfo": {
     "elapsed": 492,
     "status": "ok",
     "timestamp": 1732560511675,
     "user": {
      "displayName": "Recker",
      "userId": "16854911016069694959"
     },
     "user_tz": -330
    },
    "id": "F99VMko6px4q"
   },
   "outputs": [],
   "source": [
    "import os"
   ]
  },
  {
   "cell_type": "code",
   "execution_count": 171,
   "metadata": {
    "executionInfo": {
     "elapsed": 486,
     "status": "ok",
     "timestamp": 1732560576696,
     "user": {
      "displayName": "Recker",
      "userId": "16854911016069694959"
     },
     "user_tz": -330
    },
    "id": "VyY0Z5dUnHnl"
   },
   "outputs": [],
   "source": [
    "os.makedirs(os.path.join(os.getcwd(),\"models\"),exist_ok=True)\n",
    "MODEL_NAME=\"alz_CNN.pt\"\n",
    "MODEL_PATH=os.path.join(os.getcwd(),\"models\",MODEL_NAME)"
   ]
  },
  {
   "cell_type": "code",
   "execution_count": 176,
   "metadata": {
    "colab": {
     "base_uri": "https://localhost:8080/"
    },
    "executionInfo": {
     "elapsed": 531,
     "status": "ok",
     "timestamp": 1732560708946,
     "user": {
      "displayName": "Recker",
      "userId": "16854911016069694959"
     },
     "user_tz": -330
    },
    "id": "g4lKEPmQqFv2",
    "outputId": "f3ecc05a-e477-484d-f36a-808bf7d7d39f"
   },
   "outputs": [
    {
     "name": "stdout",
     "output_type": "stream",
     "text": [
      "Saving model to: /content/models/alz_CNN.pt\n"
     ]
    }
   ],
   "source": [
    "print(f\"Saving model to: {MODEL_PATH}\")\n",
    "torch.save(obj=model.state_dict(),f=MODEL_PATH)"
   ]
  },
  {
   "cell_type": "markdown",
   "metadata": {
    "id": "0qY9Y-ZCrF2-"
   },
   "source": [
    "## Loading the Model"
   ]
  },
  {
   "cell_type": "code",
   "execution_count": 191,
   "metadata": {
    "executionInfo": {
     "elapsed": 467,
     "status": "ok",
     "timestamp": 1732560919806,
     "user": {
      "displayName": "Recker",
      "userId": "16854911016069694959"
     },
     "user_tz": -330
    },
    "id": "WVReMCJHrLsO"
   },
   "outputs": [],
   "source": [
    "loaded_model=AlzheimerDetector(input_shape=3,hidden_units=10,output_shape=4,image_dimension=128).to(device)"
   ]
  },
  {
   "cell_type": "code",
   "execution_count": 193,
   "metadata": {
    "colab": {
     "base_uri": "https://localhost:8080/"
    },
    "executionInfo": {
     "elapsed": 457,
     "status": "ok",
     "timestamp": 1732561909842,
     "user": {
      "displayName": "Recker",
      "userId": "16854911016069694959"
     },
     "user_tz": -330
    },
    "id": "6eD7_yDIql_B",
    "outputId": "b2ed5633-07fb-44d8-c1ef-cd0e207fe4eb"
   },
   "outputs": [
    {
     "data": {
      "text/plain": [
       "<All keys matched successfully>"
      ]
     },
     "execution_count": 193,
     "metadata": {},
     "output_type": "execute_result"
    }
   ],
   "source": [
    "loaded_model.load_state_dict(torch.load(f=MODEL_PATH, weights_only=True))"
   ]
  },
  {
   "cell_type": "code",
   "execution_count": null,
   "metadata": {
    "id": "9Cwd-FZKrcLw"
   },
   "outputs": [],
   "source": []
  }
 ],
 "metadata": {
  "accelerator": "GPU",
  "colab": {
   "authorship_tag": "ABX9TyMQHhF9Oz5gqLkwZZoqqXkZ",
   "gpuType": "T4",
   "provenance": []
  },
  "kernelspec": {
   "display_name": "Python 3",
   "name": "python3"
  },
  "language_info": {
   "name": "python"
  },
  "widgets": {
   "application/vnd.jupyter.widget-state+json": {
    "00af3be2abb34a33b7b08b39c9dba3cb": {
     "model_module": "@jupyter-widgets/base",
     "model_module_version": "1.2.0",
     "model_name": "LayoutModel",
     "state": {
      "_model_module": "@jupyter-widgets/base",
      "_model_module_version": "1.2.0",
      "_model_name": "LayoutModel",
      "_view_count": null,
      "_view_module": "@jupyter-widgets/base",
      "_view_module_version": "1.2.0",
      "_view_name": "LayoutView",
      "align_content": null,
      "align_items": null,
      "align_self": null,
      "border": null,
      "bottom": null,
      "display": null,
      "flex": null,
      "flex_flow": null,
      "grid_area": null,
      "grid_auto_columns": null,
      "grid_auto_flow": null,
      "grid_auto_rows": null,
      "grid_column": null,
      "grid_gap": null,
      "grid_row": null,
      "grid_template_areas": null,
      "grid_template_columns": null,
      "grid_template_rows": null,
      "height": null,
      "justify_content": null,
      "justify_items": null,
      "left": null,
      "margin": null,
      "max_height": null,
      "max_width": null,
      "min_height": null,
      "min_width": null,
      "object_fit": null,
      "object_position": null,
      "order": null,
      "overflow": null,
      "overflow_x": null,
      "overflow_y": null,
      "padding": null,
      "right": null,
      "top": null,
      "visibility": null,
      "width": null
     }
    },
    "09971a0c56344531aa10a04b41568b87": {
     "model_module": "@jupyter-widgets/base",
     "model_module_version": "1.2.0",
     "model_name": "LayoutModel",
     "state": {
      "_model_module": "@jupyter-widgets/base",
      "_model_module_version": "1.2.0",
      "_model_name": "LayoutModel",
      "_view_count": null,
      "_view_module": "@jupyter-widgets/base",
      "_view_module_version": "1.2.0",
      "_view_name": "LayoutView",
      "align_content": null,
      "align_items": null,
      "align_self": null,
      "border": null,
      "bottom": null,
      "display": null,
      "flex": null,
      "flex_flow": null,
      "grid_area": null,
      "grid_auto_columns": null,
      "grid_auto_flow": null,
      "grid_auto_rows": null,
      "grid_column": null,
      "grid_gap": null,
      "grid_row": null,
      "grid_template_areas": null,
      "grid_template_columns": null,
      "grid_template_rows": null,
      "height": null,
      "justify_content": null,
      "justify_items": null,
      "left": null,
      "margin": null,
      "max_height": null,
      "max_width": null,
      "min_height": null,
      "min_width": null,
      "object_fit": null,
      "object_position": null,
      "order": null,
      "overflow": null,
      "overflow_x": null,
      "overflow_y": null,
      "padding": null,
      "right": null,
      "top": null,
      "visibility": null,
      "width": null
     }
    },
    "250e473ffe4c4cfbb8131a2eb202ec75": {
     "model_module": "@jupyter-widgets/base",
     "model_module_version": "1.2.0",
     "model_name": "LayoutModel",
     "state": {
      "_model_module": "@jupyter-widgets/base",
      "_model_module_version": "1.2.0",
      "_model_name": "LayoutModel",
      "_view_count": null,
      "_view_module": "@jupyter-widgets/base",
      "_view_module_version": "1.2.0",
      "_view_name": "LayoutView",
      "align_content": null,
      "align_items": null,
      "align_self": null,
      "border": null,
      "bottom": null,
      "display": null,
      "flex": null,
      "flex_flow": null,
      "grid_area": null,
      "grid_auto_columns": null,
      "grid_auto_flow": null,
      "grid_auto_rows": null,
      "grid_column": null,
      "grid_gap": null,
      "grid_row": null,
      "grid_template_areas": null,
      "grid_template_columns": null,
      "grid_template_rows": null,
      "height": null,
      "justify_content": null,
      "justify_items": null,
      "left": null,
      "margin": null,
      "max_height": null,
      "max_width": null,
      "min_height": null,
      "min_width": null,
      "object_fit": null,
      "object_position": null,
      "order": null,
      "overflow": null,
      "overflow_x": null,
      "overflow_y": null,
      "padding": null,
      "right": null,
      "top": null,
      "visibility": null,
      "width": null
     }
    },
    "33b0f88172534a468ba501968feb534f": {
     "model_module": "@jupyter-widgets/controls",
     "model_module_version": "1.5.0",
     "model_name": "DescriptionStyleModel",
     "state": {
      "_model_module": "@jupyter-widgets/controls",
      "_model_module_version": "1.5.0",
      "_model_name": "DescriptionStyleModel",
      "_view_count": null,
      "_view_module": "@jupyter-widgets/base",
      "_view_module_version": "1.2.0",
      "_view_name": "StyleView",
      "description_width": ""
     }
    },
    "6125792365ce4c50b386f719e62715dd": {
     "model_module": "@jupyter-widgets/controls",
     "model_module_version": "1.5.0",
     "model_name": "ProgressStyleModel",
     "state": {
      "_model_module": "@jupyter-widgets/controls",
      "_model_module_version": "1.5.0",
      "_model_name": "ProgressStyleModel",
      "_view_count": null,
      "_view_module": "@jupyter-widgets/base",
      "_view_module_version": "1.2.0",
      "_view_name": "StyleView",
      "bar_color": null,
      "description_width": ""
     }
    },
    "72a6396bfb3b471c8dab67b094a67fd1": {
     "model_module": "@jupyter-widgets/controls",
     "model_module_version": "1.5.0",
     "model_name": "HTMLModel",
     "state": {
      "_dom_classes": [],
      "_model_module": "@jupyter-widgets/controls",
      "_model_module_version": "1.5.0",
      "_model_name": "HTMLModel",
      "_view_count": null,
      "_view_module": "@jupyter-widgets/controls",
      "_view_module_version": "1.5.0",
      "_view_name": "HTMLView",
      "description": "",
      "description_tooltip": null,
      "layout": "IPY_MODEL_8011e0e5b3f84792bfa441f219053862",
      "placeholder": "​",
      "style": "IPY_MODEL_b6ff4b9390b74beda6dc4b35ebee5b64",
      "value": " 20/20 [03:17&lt;00:00,  9.66s/it]"
     }
    },
    "8011e0e5b3f84792bfa441f219053862": {
     "model_module": "@jupyter-widgets/base",
     "model_module_version": "1.2.0",
     "model_name": "LayoutModel",
     "state": {
      "_model_module": "@jupyter-widgets/base",
      "_model_module_version": "1.2.0",
      "_model_name": "LayoutModel",
      "_view_count": null,
      "_view_module": "@jupyter-widgets/base",
      "_view_module_version": "1.2.0",
      "_view_name": "LayoutView",
      "align_content": null,
      "align_items": null,
      "align_self": null,
      "border": null,
      "bottom": null,
      "display": null,
      "flex": null,
      "flex_flow": null,
      "grid_area": null,
      "grid_auto_columns": null,
      "grid_auto_flow": null,
      "grid_auto_rows": null,
      "grid_column": null,
      "grid_gap": null,
      "grid_row": null,
      "grid_template_areas": null,
      "grid_template_columns": null,
      "grid_template_rows": null,
      "height": null,
      "justify_content": null,
      "justify_items": null,
      "left": null,
      "margin": null,
      "max_height": null,
      "max_width": null,
      "min_height": null,
      "min_width": null,
      "object_fit": null,
      "object_position": null,
      "order": null,
      "overflow": null,
      "overflow_x": null,
      "overflow_y": null,
      "padding": null,
      "right": null,
      "top": null,
      "visibility": null,
      "width": null
     }
    },
    "b6ff4b9390b74beda6dc4b35ebee5b64": {
     "model_module": "@jupyter-widgets/controls",
     "model_module_version": "1.5.0",
     "model_name": "DescriptionStyleModel",
     "state": {
      "_model_module": "@jupyter-widgets/controls",
      "_model_module_version": "1.5.0",
      "_model_name": "DescriptionStyleModel",
      "_view_count": null,
      "_view_module": "@jupyter-widgets/base",
      "_view_module_version": "1.2.0",
      "_view_name": "StyleView",
      "description_width": ""
     }
    },
    "cacc48e415e74a52830052d5d50846f4": {
     "model_module": "@jupyter-widgets/controls",
     "model_module_version": "1.5.0",
     "model_name": "FloatProgressModel",
     "state": {
      "_dom_classes": [],
      "_model_module": "@jupyter-widgets/controls",
      "_model_module_version": "1.5.0",
      "_model_name": "FloatProgressModel",
      "_view_count": null,
      "_view_module": "@jupyter-widgets/controls",
      "_view_module_version": "1.5.0",
      "_view_name": "ProgressView",
      "bar_style": "success",
      "description": "",
      "description_tooltip": null,
      "layout": "IPY_MODEL_250e473ffe4c4cfbb8131a2eb202ec75",
      "max": 20,
      "min": 0,
      "orientation": "horizontal",
      "style": "IPY_MODEL_6125792365ce4c50b386f719e62715dd",
      "value": 20
     }
    },
    "d05008956d4b4c0f82e98685dcd47117": {
     "model_module": "@jupyter-widgets/controls",
     "model_module_version": "1.5.0",
     "model_name": "HBoxModel",
     "state": {
      "_dom_classes": [],
      "_model_module": "@jupyter-widgets/controls",
      "_model_module_version": "1.5.0",
      "_model_name": "HBoxModel",
      "_view_count": null,
      "_view_module": "@jupyter-widgets/controls",
      "_view_module_version": "1.5.0",
      "_view_name": "HBoxView",
      "box_style": "",
      "children": [
       "IPY_MODEL_d8991b4b33a94ae09bcf3b7f8bd3a278",
       "IPY_MODEL_cacc48e415e74a52830052d5d50846f4",
       "IPY_MODEL_72a6396bfb3b471c8dab67b094a67fd1"
      ],
      "layout": "IPY_MODEL_00af3be2abb34a33b7b08b39c9dba3cb"
     }
    },
    "d8991b4b33a94ae09bcf3b7f8bd3a278": {
     "model_module": "@jupyter-widgets/controls",
     "model_module_version": "1.5.0",
     "model_name": "HTMLModel",
     "state": {
      "_dom_classes": [],
      "_model_module": "@jupyter-widgets/controls",
      "_model_module_version": "1.5.0",
      "_model_name": "HTMLModel",
      "_view_count": null,
      "_view_module": "@jupyter-widgets/controls",
      "_view_module_version": "1.5.0",
      "_view_name": "HTMLView",
      "description": "",
      "description_tooltip": null,
      "layout": "IPY_MODEL_09971a0c56344531aa10a04b41568b87",
      "placeholder": "​",
      "style": "IPY_MODEL_33b0f88172534a468ba501968feb534f",
      "value": "100%"
     }
    }
   }
  }
 },
 "nbformat": 4,
 "nbformat_minor": 0
}
